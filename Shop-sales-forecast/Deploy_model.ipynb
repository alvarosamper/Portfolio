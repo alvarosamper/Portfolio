{
  "nbformat": 4,
  "nbformat_minor": 0,
  "metadata": {
    "colab": {
      "provenance": []
    },
    "kernelspec": {
      "name": "python3",
      "display_name": "Python 3"
    },
    "language_info": {
      "name": "python"
    }
  },
  "cells": [
    {
      "cell_type": "code",
      "execution_count": null,
      "metadata": {
        "colab": {
          "base_uri": "https://localhost:8080/"
        },
        "id": "xzFxZDVFjCRF",
        "outputId": "50db3ffd-38ba-4f47-9f87-c30b196871f0"
      },
      "outputs": [
        {
          "output_type": "stream",
          "name": "stdout",
          "text": [
            "Collecting Modelbit\n",
            "  Downloading modelbit-0.42.5-py3-none-any.whl.metadata (2.1 kB)\n",
            "Collecting pycryptodomex (from Modelbit)\n",
            "  Downloading pycryptodomex-3.21.0-cp36-abi3-manylinux_2_17_x86_64.manylinux2014_x86_64.whl.metadata (3.4 kB)\n",
            "Requirement already satisfied: pandas in /usr/local/lib/python3.10/dist-packages (from Modelbit) (2.2.2)\n",
            "Requirement already satisfied: tqdm in /usr/local/lib/python3.10/dist-packages (from Modelbit) (4.66.6)\n",
            "Requirement already satisfied: requests in /usr/local/lib/python3.10/dist-packages (from Modelbit) (2.32.3)\n",
            "Collecting types-requests (from Modelbit)\n",
            "  Downloading types_requests-2.32.0.20241016-py3-none-any.whl.metadata (1.9 kB)\n",
            "Requirement already satisfied: pyyaml in /usr/local/lib/python3.10/dist-packages (from Modelbit) (6.0.2)\n",
            "Collecting types-PyYAML (from Modelbit)\n",
            "  Downloading types_PyYAML-6.0.12.20240917-py3-none-any.whl.metadata (1.6 kB)\n",
            "Requirement already satisfied: jinja2 in /usr/local/lib/python3.10/dist-packages (from Modelbit) (3.1.4)\n",
            "Collecting zstandard (from Modelbit)\n",
            "  Downloading zstandard-0.23.0-cp310-cp310-manylinux_2_17_x86_64.manylinux2014_x86_64.whl.metadata (3.0 kB)\n",
            "Collecting appdirs (from Modelbit)\n",
            "  Downloading appdirs-1.4.4-py2.py3-none-any.whl.metadata (9.0 kB)\n",
            "Collecting texttable (from Modelbit)\n",
            "  Downloading texttable-1.7.0-py2.py3-none-any.whl.metadata (9.8 kB)\n",
            "Collecting build (from Modelbit)\n",
            "  Downloading build-1.2.2.post1-py3-none-any.whl.metadata (6.5 kB)\n",
            "Collecting pkginfo (from Modelbit)\n",
            "  Downloading pkginfo-1.11.2-py3-none-any.whl.metadata (11 kB)\n",
            "Collecting boto3>=1.23.0 (from Modelbit)\n",
            "  Downloading boto3-1.35.60-py3-none-any.whl.metadata (6.7 kB)\n",
            "Requirement already satisfied: numpy<2 in /usr/local/lib/python3.10/dist-packages (from Modelbit) (1.26.4)\n",
            "Collecting build (from Modelbit)\n",
            "  Downloading build-0.10.0-py3-none-any.whl.metadata (4.1 kB)\n",
            "Requirement already satisfied: importlib-metadata in /usr/local/lib/python3.10/dist-packages (from Modelbit) (8.5.0)\n",
            "Requirement already satisfied: urllib3>=1.21.1 in /usr/local/lib/python3.10/dist-packages (from Modelbit) (2.2.3)\n",
            "Collecting botocore<1.36.0,>=1.35.60 (from boto3>=1.23.0->Modelbit)\n",
            "  Downloading botocore-1.35.60-py3-none-any.whl.metadata (5.7 kB)\n",
            "Collecting jmespath<2.0.0,>=0.7.1 (from boto3>=1.23.0->Modelbit)\n",
            "  Downloading jmespath-1.0.1-py3-none-any.whl.metadata (7.6 kB)\n",
            "Collecting s3transfer<0.11.0,>=0.10.0 (from boto3>=1.23.0->Modelbit)\n",
            "  Downloading s3transfer-0.10.3-py3-none-any.whl.metadata (1.7 kB)\n",
            "Requirement already satisfied: packaging>=19.0 in /usr/local/lib/python3.10/dist-packages (from build->Modelbit) (24.2)\n",
            "Collecting pyproject_hooks (from build->Modelbit)\n",
            "  Downloading pyproject_hooks-1.2.0-py3-none-any.whl.metadata (1.3 kB)\n",
            "Requirement already satisfied: tomli>=1.1.0 in /usr/local/lib/python3.10/dist-packages (from build->Modelbit) (2.0.2)\n",
            "Requirement already satisfied: zipp>=3.20 in /usr/local/lib/python3.10/dist-packages (from importlib-metadata->Modelbit) (3.20.2)\n",
            "Requirement already satisfied: MarkupSafe>=2.0 in /usr/local/lib/python3.10/dist-packages (from jinja2->Modelbit) (3.0.2)\n",
            "Requirement already satisfied: python-dateutil>=2.8.2 in /usr/local/lib/python3.10/dist-packages (from pandas->Modelbit) (2.8.2)\n",
            "Requirement already satisfied: pytz>=2020.1 in /usr/local/lib/python3.10/dist-packages (from pandas->Modelbit) (2024.2)\n",
            "Requirement already satisfied: tzdata>=2022.7 in /usr/local/lib/python3.10/dist-packages (from pandas->Modelbit) (2024.2)\n",
            "Requirement already satisfied: charset-normalizer<4,>=2 in /usr/local/lib/python3.10/dist-packages (from requests->Modelbit) (3.4.0)\n",
            "Requirement already satisfied: idna<4,>=2.5 in /usr/local/lib/python3.10/dist-packages (from requests->Modelbit) (3.10)\n",
            "Requirement already satisfied: certifi>=2017.4.17 in /usr/local/lib/python3.10/dist-packages (from requests->Modelbit) (2024.8.30)\n",
            "Requirement already satisfied: six>=1.5 in /usr/local/lib/python3.10/dist-packages (from python-dateutil>=2.8.2->pandas->Modelbit) (1.16.0)\n",
            "Downloading modelbit-0.42.5-py3-none-any.whl (150 kB)\n",
            "\u001b[2K   \u001b[90m━━━━━━━━━━━━━━━━━━━━━━━━━━━━━━━━━━━━━━━━\u001b[0m \u001b[32m150.7/150.7 kB\u001b[0m \u001b[31m3.4 MB/s\u001b[0m eta \u001b[36m0:00:00\u001b[0m\n",
            "\u001b[?25hDownloading boto3-1.35.60-py3-none-any.whl (139 kB)\n",
            "\u001b[2K   \u001b[90m━━━━━━━━━━━━━━━━━━━━━━━━━━━━━━━━━━━━━━━━\u001b[0m \u001b[32m139.2/139.2 kB\u001b[0m \u001b[31m8.9 MB/s\u001b[0m eta \u001b[36m0:00:00\u001b[0m\n",
            "\u001b[?25hDownloading build-0.10.0-py3-none-any.whl (17 kB)\n",
            "Downloading appdirs-1.4.4-py2.py3-none-any.whl (9.6 kB)\n",
            "Downloading pkginfo-1.11.2-py3-none-any.whl (31 kB)\n",
            "Downloading pycryptodomex-3.21.0-cp36-abi3-manylinux_2_17_x86_64.manylinux2014_x86_64.whl (2.3 MB)\n",
            "\u001b[2K   \u001b[90m━━━━━━━━━━━━━━━━━━━━━━━━━━━━━━━━━━━━━━━━\u001b[0m \u001b[32m2.3/2.3 MB\u001b[0m \u001b[31m33.3 MB/s\u001b[0m eta \u001b[36m0:00:00\u001b[0m\n",
            "\u001b[?25hDownloading texttable-1.7.0-py2.py3-none-any.whl (10 kB)\n",
            "Downloading types_PyYAML-6.0.12.20240917-py3-none-any.whl (15 kB)\n",
            "Downloading types_requests-2.32.0.20241016-py3-none-any.whl (15 kB)\n",
            "Downloading zstandard-0.23.0-cp310-cp310-manylinux_2_17_x86_64.manylinux2014_x86_64.whl (5.4 MB)\n",
            "\u001b[2K   \u001b[90m━━━━━━━━━━━━━━━━━━━━━━━━━━━━━━━━━━━━━━━━\u001b[0m \u001b[32m5.4/5.4 MB\u001b[0m \u001b[31m30.5 MB/s\u001b[0m eta \u001b[36m0:00:00\u001b[0m\n",
            "\u001b[?25hDownloading botocore-1.35.60-py3-none-any.whl (12.8 MB)\n",
            "\u001b[2K   \u001b[90m━━━━━━━━━━━━━━━━━━━━━━━━━━━━━━━━━━━━━━━━\u001b[0m \u001b[32m12.8/12.8 MB\u001b[0m \u001b[31m56.3 MB/s\u001b[0m eta \u001b[36m0:00:00\u001b[0m\n",
            "\u001b[?25hDownloading jmespath-1.0.1-py3-none-any.whl (20 kB)\n",
            "Downloading s3transfer-0.10.3-py3-none-any.whl (82 kB)\n",
            "\u001b[2K   \u001b[90m━━━━━━━━━━━━━━━━━━━━━━━━━━━━━━━━━━━━━━━━\u001b[0m \u001b[32m82.6/82.6 kB\u001b[0m \u001b[31m4.2 MB/s\u001b[0m eta \u001b[36m0:00:00\u001b[0m\n",
            "\u001b[?25hDownloading pyproject_hooks-1.2.0-py3-none-any.whl (10 kB)\n",
            "Installing collected packages: texttable, appdirs, zstandard, types-requests, types-PyYAML, pyproject_hooks, pycryptodomex, pkginfo, jmespath, build, botocore, s3transfer, boto3, Modelbit\n",
            "Successfully installed Modelbit-0.42.5 appdirs-1.4.4 boto3-1.35.60 botocore-1.35.60 build-0.10.0 jmespath-1.0.1 pkginfo-1.11.2 pycryptodomex-3.21.0 pyproject_hooks-1.2.0 s3transfer-0.10.3 texttable-1.7.0 types-PyYAML-6.0.12.20240917 types-requests-2.32.0.20241016 zstandard-0.23.0\n"
          ]
        }
      ],
      "source": [
        "!pip install Modelbit"
      ]
    },
    {
      "cell_type": "markdown",
      "source": [
        "# IMPORTS Y FUNCIONES"
      ],
      "metadata": {
        "id": "4ViInJaslawg"
      }
    },
    {
      "cell_type": "code",
      "source": [
        "import modelbit\n",
        "import xgboost as xgb\n",
        "import pandas as pd\n",
        "import numpy as np\n"
      ],
      "metadata": {
        "id": "ZCbGCLXCjHYG"
      },
      "execution_count": null,
      "outputs": []
    },
    {
      "cell_type": "code",
      "source": [
        "def calculate_lags_and_means(df, day):\n",
        "    lags = [1, 2, 3, 4, 5, 6, 7, 10, 12, 15]\n",
        "    df_lag = df[(df['d'] <= day) & (df['d'] >= day - max(lags))].copy()\n",
        "\n",
        "    for lag in lags:\n",
        "        df_lag['sold_lag_' + str(lag)] = (\n",
        "            df_lag.groupby(['item_id', 'dept_id', 'cat_id'], as_index=False)['sold']\n",
        "            .shift(lag).astype(np.float16)\n",
        "        )\n",
        "        # Asegura la alineación de índices entre df y df_lag antes de asignar\n",
        "        df.loc[df['d'] == day, 'sold_lag_' + str(lag)] = df_lag.loc[df_lag['d'] == day, 'sold_lag_' + str(lag)].values\n",
        "\n",
        "    # Calcular medias rodantes y expansivas\n",
        "    df_means = df[(df['d'] <= day) & (df['d'] >= day - 28)].copy()\n",
        "    df_means['rolling_sold_mean'] = (\n",
        "        df_means.groupby(['item_id', 'dept_id', 'cat_id'])['sold']\n",
        "        .transform(lambda x: x.rolling(window=7, min_periods=1).mean()).astype(np.float16)\n",
        "    )\n",
        "\n",
        "    df_means['rolling_sold_mean_14'] = (\n",
        "        df_means.groupby(['item_id', 'dept_id', 'cat_id'])['sold']\n",
        "        .transform(lambda x: x.rolling(window=14, min_periods=1).mean()).astype(np.float16)\n",
        "    )\n",
        "\n",
        "    df_means['rolling_sold_mean_28'] = (\n",
        "        df_means.groupby(['item_id', 'dept_id', 'cat_id'])['sold']\n",
        "        .transform(lambda x: x.rolling(window=28, min_periods=1).mean()).astype(np.float16)\n",
        "    )\n",
        "\n",
        "    df_means['expanding_sold_mean'] = (\n",
        "        df_means.groupby(['item_id', 'dept_id', 'cat_id'])['sold']\n",
        "        .transform(lambda x: x.expanding(2).mean()).astype(np.float16)\n",
        "    )\n",
        "\n",
        "    # Realiza las asignaciones asegurando que las dimensiones coincidan\n",
        "    for col in [\"rolling_sold_mean\", \"rolling_sold_mean_14\", \"rolling_sold_mean_28\", \"expanding_sold_mean\"]:\n",
        "        df.loc[df['d'] == day, col] = df_means.loc[df_means['d'] == day, col].reindex(df[df['d'] == day].index).values\n",
        "\n",
        "    return df"
      ],
      "metadata": {
        "id": "vfbMLx-PlC5h"
      },
      "execution_count": null,
      "outputs": []
    },
    {
      "cell_type": "code",
      "source": [
        "def predictions(df, duration,model, day_1):\n",
        "\n",
        "    # Guarda las ventas reales en una nueva columna antes de sobrescribir 'sold' con predicciones\n",
        "    if 'sold_reales' not in df.columns:\n",
        "        df['sold_reales'] = df['sold']\n",
        "\n",
        "\n",
        "    for day in range(day_1, day_1+duration+1):\n",
        "        df = calculate_lags_and_means(df, day)\n",
        "        X_day = df[df['d'] == day].drop(columns=['sold', \"pred_sales\",\"sold_reales\"], errors='ignore')\n",
        "        predictions = model.predict(X_day)\n",
        "        predictions = np.round(predictions)\n",
        "        df.loc[df['d'] == day, 'sold'] = predictions\n",
        "    return df"
      ],
      "metadata": {
        "id": "QNvO7GM3ltBB"
      },
      "execution_count": null,
      "outputs": []
    },
    {
      "cell_type": "markdown",
      "source": [
        "# DEPLOY"
      ],
      "metadata": {
        "id": "8SkeY6fhlpdx"
      }
    },
    {
      "cell_type": "code",
      "source": [
        "model=xgb.XGBRegressor()\n",
        "model.load_model('/content/drive/MyDrive/ordenador/TEORÍA+PROYECTOS/m5-forecasting-accuracy/models/final_model.json')"
      ],
      "metadata": {
        "id": "wXJZAvDqmisD"
      },
      "execution_count": null,
      "outputs": []
    },
    {
      "cell_type": "code",
      "source": [
        "mb = modelbit.login()"
      ],
      "metadata": {
        "id": "T3Y26DEHjU9A"
      },
      "execution_count": null,
      "outputs": []
    },
    {
      "cell_type": "code",
      "source": [
        "def shop_model_predict(df_entrada, day_1, duration):\n",
        "  df_entrada = predictions(df_entrada, duration, model, day_1)\n",
        "  return df_entrada\n"
      ],
      "metadata": {
        "id": "9YIotmD-lwOI"
      },
      "execution_count": null,
      "outputs": []
    },
    {
      "cell_type": "code",
      "source": [
        "mb.deploy(shop_model_predict)"
      ],
      "metadata": {
        "colab": {
          "base_uri": "https://localhost:8080/",
          "height": 188
        },
        "id": "PIu38_LVkFFy",
        "outputId": "9cc92f19-7a24-46aa-c20a-66d05f5e6895"
      },
      "execution_count": null,
      "outputs": [
        {
          "output_type": "display_data",
          "data": {
            "text/plain": [
              "<IPython.core.display.HTML object>"
            ],
            "text/html": [
              "<div style=\"margin: 0; padding: 5px; line-height: 1.75; font-size: 14px; vertical-align: baseline; list-style: none; font-family: Roboto, Arial, sans-serif; background: none;\">\n",
              "  <div>\n",
              "    <span style=\"margin: 0; padding: 0; line-height: 1.75; font-size: 14px; vertical-align: baseline; list-style: none; font-family: Roboto, Arial, sans-serif; background: none; font-weight: bold; color: #15803d;\">Deploying </span> <span style=\"margin: 0; padding: 3px; line-height: 1.75; font-size: 13px; vertical-align: baseline; list-style: none; font-family: monospace; background: none; font-weight: 400; background-color: rgba(209, 213, 219, 0.2);\">shop_model_predict</span>\n",
              "  </div>\n",
              "  \n",
              "\n",
              "  <div style=\"margin: 0; padding: 0; line-height: 1.75; font-size: 14px; vertical-align: baseline; list-style: none; font-family: Roboto, Arial, sans-serif; background: none;\">Uploading dependencies...</div>\n",
              "</div>"
            ]
          },
          "metadata": {}
        },
        {
          "output_type": "display_data",
          "data": {
            "text/plain": [
              "<IPython.core.display.HTML object>"
            ],
            "text/html": [
              "<div style=\"margin: 0; padding: 5px; line-height: 1.75; font-size: 14px; vertical-align: baseline; list-style: none; font-family: Roboto, Arial, sans-serif; background: none;\">\n",
              "  <div style=\"margin: 0; padding: 0; line-height: 1.75; font-size: 14px; vertical-align: baseline; list-style: none; font-family: Roboto, Arial, sans-serif; background: none; font-weight: bold; color: #15803d;\">Success!</div>\n",
              "  \n",
              "    <div style=\"margin: 0; padding: 0; line-height: 1.75; font-size: 14px; vertical-align: baseline; list-style: none; font-family: Roboto, Arial, sans-serif; background: none;\">\n",
              "      Deployment <span style=\"margin: 0; padding: 3px; line-height: 1.75; font-size: 13px; vertical-align: baseline; list-style: none; font-family: monospace; background: none; font-weight: 400; background-color: rgba(209, 213, 219, 0.2);\">shop_model_predict</span>\n",
              "      will be ready in  a few minutes.\n",
              "    </div>\n",
              "  \n",
              "\n",
              "  <a href=\"https://us-east-1.aws.modelbit.com/w/alvaros/main/deployments/shop_model_predict/apis\" target=\"_blank\" style=\"display: inline-block; margin-top: 12px;\" >\n",
              "    <div\n",
              "      style=\"display: inline-block; background-color: #845B99; border-radius: 0.375rem; color: white; cursor: pointer; font-size: 14px; font-weight: 700; padding: 8px 16px;\"\n",
              "      onmouseenter=\"this.style.background='#714488'\"\n",
              "      onmouseleave=\"this.style.background='#845B99'\"\n",
              "    >\n",
              "      View in Modelbit\n",
              "    </div>\n",
              "  </a>\n",
              "</div>"
            ]
          },
          "metadata": {}
        }
      ]
    },
    {
      "cell_type": "code",
      "source": [],
      "metadata": {
        "id": "HjLxbKo2nR5U"
      },
      "execution_count": null,
      "outputs": []
    }
  ]
}